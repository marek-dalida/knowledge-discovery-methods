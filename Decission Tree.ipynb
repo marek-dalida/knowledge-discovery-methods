{
 "cells": [
  {
   "cell_type": "code",
   "execution_count": 1,
   "metadata": {},
   "outputs": [
    {
     "name": "stdout",
     "output_type": "stream",
     "text": [
      "Class labels: [0 1 2]\n"
     ]
    }
   ],
   "source": [
    "from sklearn import datasets\n",
    "import numpy as np\n",
    "\n",
    "iris = datasets.load_iris()\n",
    "X = iris.data[:, [2, 3]]\n",
    "y = iris.target\n",
    "\n",
    "print('Class labels:', np.unique(y))"
   ]
  },
  {
   "cell_type": "code",
   "execution_count": 2,
   "metadata": {},
   "outputs": [
    {
     "data": {
      "text/plain": [
       "{0: 50, 1: 50, 2: 50}"
      ]
     },
     "execution_count": 2,
     "metadata": {},
     "output_type": "execute_result"
    }
   ],
   "source": [
    "unique, counts = np.unique(y, return_counts=True)\n",
    "dict(zip(unique, counts))"
   ]
  },
  {
   "cell_type": "code",
   "execution_count": 4,
   "metadata": {},
   "outputs": [
    {
     "data": {
      "image/png": "[encoded data removed]",
      "text/plain": [
       "<Figure size 720x360 with 1 Axes>"
      ]
     },
     "metadata": {
      "needs_background": "light"
     },
     "output_type": "display_data"
    }
   ],
   "source": [
    "from mlxtend.plotting import plot_decision_regions\n",
    "\n",
    "tree = DecisionTreeClassifier(max_depth=10, criterion=\"entropy\", random_state=1)\n",
    "tree.fit(np.log(X ** 8), y)\n",
    "fig = plt.figure(figsize=(10,5))\n",
    "labels = ['Decision Tree']\n",
    "fig = plot_decision_regions(X=np.log(X ** 8), y=y, clf=tree, legend=2)\n",
    "plt.title(\"Decision boundary\")\n",
    "plt.show()"
   ]
  },
  {
   "cell_type": "code",
   "execution_count": 5,
   "metadata": {
    "scrolled": true
   },
   "outputs": [
    {
     "data": {
      "text/html": [
       "<div>\n",
       "<style scoped>\n",
       "    .dataframe tbody tr th:only-of-type {\n",
       "        vertical-align: middle;\n",
       "    }\n",
       "\n",
       "    .dataframe tbody tr th {\n",
       "        vertical-align: top;\n",
       "    }\n",
       "\n",
       "    .dataframe thead th {\n",
       "        text-align: right;\n",
       "    }\n",
       "</style>\n",
       "<table border=\"1\" class=\"dataframe\">\n",
       "  <thead>\n",
       "    <tr style=\"text-align: right;\">\n",
       "      <th></th>\n",
       "      <th>Age</th>\n",
       "      <th>BMI</th>\n",
       "      <th>Glucose</th>\n",
       "      <th>Insulin</th>\n",
       "      <th>HOMA</th>\n",
       "      <th>Leptin</th>\n",
       "      <th>Adiponectin</th>\n",
       "      <th>Resistin</th>\n",
       "      <th>MCP.1</th>\n",
       "      <th>Classification</th>\n",
       "    </tr>\n",
       "  </thead>\n",
       "  <tbody>\n",
       "    <tr>\n",
       "      <th>0</th>\n",
       "      <td>48</td>\n",
       "      <td>23.500000</td>\n",
       "      <td>70</td>\n",
       "      <td>2.707</td>\n",
       "      <td>0.467409</td>\n",
       "      <td>8.8071</td>\n",
       "      <td>9.702400</td>\n",
       "      <td>7.99585</td>\n",
       "      <td>417.114</td>\n",
       "      <td>1</td>\n",
       "    </tr>\n",
       "    <tr>\n",
       "      <th>1</th>\n",
       "      <td>83</td>\n",
       "      <td>20.690495</td>\n",
       "      <td>92</td>\n",
       "      <td>3.115</td>\n",
       "      <td>0.706897</td>\n",
       "      <td>8.8438</td>\n",
       "      <td>5.429285</td>\n",
       "      <td>4.06405</td>\n",
       "      <td>468.786</td>\n",
       "      <td>1</td>\n",
       "    </tr>\n",
       "    <tr>\n",
       "      <th>2</th>\n",
       "      <td>82</td>\n",
       "      <td>23.124670</td>\n",
       "      <td>91</td>\n",
       "      <td>4.498</td>\n",
       "      <td>1.009651</td>\n",
       "      <td>17.9393</td>\n",
       "      <td>22.432040</td>\n",
       "      <td>9.27715</td>\n",
       "      <td>554.697</td>\n",
       "      <td>1</td>\n",
       "    </tr>\n",
       "    <tr>\n",
       "      <th>3</th>\n",
       "      <td>68</td>\n",
       "      <td>21.367521</td>\n",
       "      <td>77</td>\n",
       "      <td>3.226</td>\n",
       "      <td>0.612725</td>\n",
       "      <td>9.8827</td>\n",
       "      <td>7.169560</td>\n",
       "      <td>12.76600</td>\n",
       "      <td>928.220</td>\n",
       "      <td>1</td>\n",
       "    </tr>\n",
       "    <tr>\n",
       "      <th>4</th>\n",
       "      <td>86</td>\n",
       "      <td>21.111111</td>\n",
       "      <td>92</td>\n",
       "      <td>3.549</td>\n",
       "      <td>0.805386</td>\n",
       "      <td>6.6994</td>\n",
       "      <td>4.819240</td>\n",
       "      <td>10.57635</td>\n",
       "      <td>773.920</td>\n",
       "      <td>1</td>\n",
       "    </tr>\n",
       "  </tbody>\n",
       "</table>\n",
       "</div>"
      ],
      "text/plain": [
       "   Age        BMI  Glucose  Insulin      HOMA   Leptin  Adiponectin  Resistin  \\\n",
       "0   48  23.500000       70    2.707  0.467409   8.8071     9.702400   7.99585   \n",
       "1   83  20.690495       92    3.115  0.706897   8.8438     5.429285   4.06405   \n",
       "2   82  23.124670       91    4.498  1.009651  17.9393    22.432040   9.27715   \n",
       "3   68  21.367521       77    3.226  0.612725   9.8827     7.169560  12.76600   \n",
       "4   86  21.111111       92    3.549  0.805386   6.6994     4.819240  10.57635   \n",
       "\n",
       "     MCP.1  Classification  \n",
       "0  417.114               1  \n",
       "1  468.786               1  \n",
       "2  554.697               1  \n",
       "3  928.220               1  \n",
       "4  773.920               1  "
      ]
     },
     "execution_count": 5,
     "metadata": {},
     "output_type": "execute_result"
    }
   ],
   "source": [
    "import pandas as pd\n",
    "\n",
    "breast_dt = pd.read_csv('./datasets/Breast.csv')\n",
    "breast_dt.head()"
   ]
  },
  {
   "cell_type": "code",
   "execution_count": 6,
   "metadata": {},
   "outputs": [],
   "source": [
    "# from sklearn.preprocessing import StandardScaler\n",
    "\n",
    "# scaler = StandardScaler()\n",
    "# dataset = pd.DataFrame(scaler.fit_transform(breast_dt.values), columns=breast_dt.columns, index=breast_dt.index)"
   ]
  },
  {
   "cell_type": "code",
   "execution_count": 7,
   "metadata": {},
   "outputs": [],
   "source": [
    "from sklearn.model_selection import train_test_split\n",
    "\n",
    "train, test = train_test_split(breast_dt, test_size=0.2, random_state=10)"
   ]
  },
  {
   "cell_type": "code",
   "execution_count": 8,
   "metadata": {},
   "outputs": [],
   "source": [
    "import numpy as np\n",
    "\n",
    "X_train = np.array(train[['Age','BMI','Glucose','Insulin','HOMA','Leptin','Adiponectin','Resistin', 'MCP.1']].values)\n",
    "y_train = np.array(train['Classification'].values)\n",
    "X_test = np.array(test[['Age','BMI','Glucose','Insulin','HOMA','Leptin','Adiponectin','Resistin', 'MCP.1']].values)\n",
    "y_test = np.array(test['Classification'].values)\n",
    "\n",
    "# Do wizualizacji granicy decyzyjnej używam tylko cech o indeksie 2 i 3 -> Glucose i Insulin\n",
    "X2_train = np.array(train[['Glucose','Insulin']].values)\n",
    "X2_test = np.array(test[['Glucose','Insulin']].values)"
   ]
  },
  {
   "cell_type": "code",
   "execution_count": 9,
   "metadata": {},
   "outputs": [
    {
     "data": {
      "text/plain": [
       "DecisionTreeClassifier()"
      ]
     },
     "execution_count": 9,
     "metadata": {},
     "output_type": "execute_result"
    }
   ],
   "source": [
    "from sklearn.tree import DecisionTreeClassifier\n",
    "\n",
    "clf = DecisionTreeClassifier()\n",
    "clf.fit(X_train, y_train)"
   ]
  },
  {
   "cell_type": "code",
   "execution_count": 10,
   "metadata": {},
   "outputs": [
    {
     "name": "stdout",
     "output_type": "stream",
     "text": [
      "Actual classes [1 2 2 2 2 1 2 2 1 1 2 2 2 1 2 1 1 1 1 1 2 2 1 1]\n",
      "Predicted classes [1 2 2 2 2 2 2 2 1 1 2 2 1 2 2 2 1 1 1 1 2 2 2 1]\n"
     ]
    }
   ],
   "source": [
    "y_pred = clf.predict(X_test)\n",
    "print('Actual classes', y_test)\n",
    "print('Predicted classes', y_pred)"
   ]
  },
  {
   "cell_type": "code",
   "execution_count": 11,
   "metadata": {},
   "outputs": [
    {
     "name": "stdout",
     "output_type": "stream",
     "text": [
      "Mean Square Error : 0.21 \n",
      "Variance score: 0.17\n"
     ]
    }
   ],
   "source": [
    "from sklearn.metrics import mean_squared_error\n",
    "from sklearn.metrics import r2_score\n",
    "mse_ns = mean_squared_error(y_test, y_pred) \n",
    "print(\"Mean Square Error : %.2f \" % mse_ns)\n",
    "\n",
    "vs_ns = r2_score(y_test, y_pred)\n",
    "print('Variance score: %.2f' % vs_ns)"
   ]
  },
  {
   "cell_type": "code",
   "execution_count": 12,
   "metadata": {},
   "outputs": [],
   "source": [
    "#Decision tree params\n",
    "\n",
    "criterion_config = ['gini', 'entropy']\n",
    "splitter_config = ['best', 'random']\n",
    "max_depth_config = [2, 4, 6, 8, 10, 15, 20]\n",
    "min_samples_split_config = [2, 3, 4, 5]\n",
    "min_samples_leaf_config = [1, 2, 3, 4]"
   ]
  },
  {
   "cell_type": "code",
   "execution_count": 13,
   "metadata": {},
   "outputs": [
    {
     "data": {
      "image/png": "[encoded data removed]",
      "text/plain": [
       "<Figure size 432x288 with 1 Axes>"
      ]
     },
     "metadata": {
      "needs_background": "light"
     },
     "output_type": "display_data"
    },
    {
     "data": {
      "image/png": "[encoded data removed]",
      "text/plain": [
       "<Figure size 432x288 with 1 Axes>"
      ]
     },
     "metadata": {
      "needs_background": "light"
     },
     "output_type": "display_data"
    },
    {
     "name": "stdout",
     "output_type": "stream",
     "text": [
      "MSE scores  [0.375, 0.375, 0.25, 0.25, 0.2916666666666667, 0.2916666666666667, 0.25]\n",
      "R2 scores  [-0.5, -0.5, 0.0, 0.0, -0.16666666666666674, -0.16666666666666674, 0.0]\n"
     ]
    }
   ],
   "source": [
    "res_max_depth_r2 = []\n",
    "res_max_depth_mse = []\n",
    "\n",
    "for md in max_depth_config:\n",
    "    clf_max_depth = DecisionTreeClassifier(max_depth=md)\n",
    "    clf_max_depth.fit(X_train, y_train)\n",
    "    y_pred = clf_max_depth.predict(X_test)\n",
    "    res_max_depth_mse.append(mean_squared_error(y_test, y_pred))\n",
    "    res_max_depth_r2.append(r2_score(y_test, y_pred))\n",
    "\n",
    "plt.scatter(max_depth_config, res_max_depth_mse)\n",
    "plt.xlabel('max depth value')\n",
    "plt.ylabel('mse value')\n",
    "plt.title('Wpływ parametru max_depth na jakość modelu')\n",
    "plt.show()\n",
    "plt.clf()\n",
    "\n",
    "plt.scatter(max_depth_config, res_max_depth_r2)\n",
    "plt.xlabel('max depth value')\n",
    "plt.ylabel('r2 value')\n",
    "plt.title('Wpływ parametru max_depth na jakość modelu')\n",
    "plt.show()\n",
    "\n",
    "print('MSE scores ', res_max_depth_mse)\n",
    "print('R2 scores ', res_max_depth_r2)"
   ]
  },
  {
   "cell_type": "markdown",
   "metadata": {},
   "source": [
    "Powyższe wyniki pokazują, że zazwyczaj model wraz ze wzrostem wartości paramatru max_depth jakość modelu się poprawia (mse maleje, a wariancja rośnie)"
   ]
  },
  {
   "cell_type": "code",
   "execution_count": 14,
   "metadata": {},
   "outputs": [
    {
     "data": {
      "image/png": "[encoded data removed]",
      "text/plain": [
       "<Figure size 432x288 with 1 Axes>"
      ]
     },
     "metadata": {
      "needs_background": "light"
     },
     "output_type": "display_data"
    },
    {
     "data": {
      "image/png": "[encoded data removed]",
      "text/plain": [
       "<Figure size 432x288 with 1 Axes>"
      ]
     },
     "metadata": {
      "needs_background": "light"
     },
     "output_type": "display_data"
    },
    {
     "name": "stdout",
     "output_type": "stream",
     "text": [
      "MSE scores  [0.375, 0.20833333333333334, 0.3333333333333333, 0.25]\n",
      "R2 scores  [-0.5, 0.16666666666666663, -0.33333333333333326, 0.0]\n"
     ]
    }
   ],
   "source": [
    "res_min_samples_split_mse = []\n",
    "res_min_samples_split_r2 = []\n",
    "\n",
    "for mss in min_samples_split_config:\n",
    "    clf_mss = DecisionTreeClassifier(min_samples_split=mss)\n",
    "    clf_mss.fit(X_train, y_train)\n",
    "    y_pred = clf_mss.predict(X_test)\n",
    "    res_min_samples_split_mse.append(mean_squared_error(y_test, y_pred))\n",
    "    res_min_samples_split_r2.append(r2_score(y_test, y_pred))\n",
    "\n",
    "plt.scatter(min_samples_split_config, res_min_samples_split_mse)\n",
    "plt.xlabel('min samples split value value')\n",
    "plt.ylabel('mse value')\n",
    "plt.title('Wpływ parametru min samples split value na jakość modelu')\n",
    "plt.show()\n",
    "plt.clf()\n",
    "\n",
    "plt.scatter(min_samples_split_config, res_min_samples_split_r2)\n",
    "plt.xlabel('min samples split value value')\n",
    "plt.ylabel('r2 value')\n",
    "plt.title('Wpływ parametru min samples split value na jakość modelu')\n",
    "plt.show()\n",
    "\n",
    "print('MSE scores ', res_min_samples_split_mse)\n",
    "print('R2 scores ', res_min_samples_split_r2)"
   ]
  },
  {
   "cell_type": "markdown",
   "metadata": {},
   "source": [
    "Powyższe wyniki pokazują, że im wyższy współczynnik min_samples_split tym jakość wytrenowanego modelu się pogarsza ( wyższe MSE oraz niższy r2)"
   ]
  },
  {
   "cell_type": "code",
   "execution_count": 15,
   "metadata": {},
   "outputs": [
    {
     "data": {
      "image/png": "[encoded data removed]",
      "text/plain": [
       "<Figure size 432x288 with 1 Axes>"
      ]
     },
     "metadata": {
      "needs_background": "light"
     },
     "output_type": "display_data"
    },
    {
     "data": {
      "image/png": "[encoded data removed]",
      "text/plain": [
       "<Figure size 432x288 with 1 Axes>"
      ]
     },
     "metadata": {
      "needs_background": "light"
     },
     "output_type": "display_data"
    },
    {
     "name": "stdout",
     "output_type": "stream",
     "text": [
      "MSE scores  [0.3333333333333333, 0.3333333333333333, 0.25, 0.25]\n",
      "R2 scores  [-0.33333333333333326, -0.33333333333333326, 0.0, 0.0]\n"
     ]
    }
   ],
   "source": [
    "res_min_samples_leaf_mse = []\n",
    "res_min_samples_leaf_r2 = []\n",
    "\n",
    "for msl in min_samples_leaf_config:\n",
    "    clf_mss = DecisionTreeClassifier(min_samples_leaf=msl)\n",
    "    clf_mss.fit(X_train, y_train)\n",
    "    y_pred = clf_mss.predict(X_test)\n",
    "    res_min_samples_leaf_mse.append(mean_squared_error(y_test, y_pred))\n",
    "    res_min_samples_leaf_r2.append(r2_score(y_test, y_pred))\n",
    "\n",
    "plt.scatter(min_samples_leaf_config, res_min_samples_leaf_mse)\n",
    "plt.xlabel('min samples split value value')\n",
    "plt.ylabel('mse value')\n",
    "plt.title('Wpływ parametru min samples leaf value na jakość modelu')\n",
    "plt.show()\n",
    "plt.clf()\n",
    "\n",
    "plt.scatter(min_samples_leaf_config, res_min_samples_leaf_r2)\n",
    "plt.xlabel('min samples split value value')\n",
    "plt.ylabel('r2 value')\n",
    "plt.title('Wpływ parametru min samples leaf value na jakość modelu')\n",
    "plt.show()\n",
    "\n",
    "print('MSE scores ', res_min_samples_leaf_mse)\n",
    "print('R2 scores ', res_min_samples_leaf_r2)"
   ]
  },
  {
   "cell_type": "markdown",
   "metadata": {},
   "source": [
    "W tym przypadku dla różnych wartości parametru min_samples_leaf wyniki okazywały się różne ( model czasami się polepszał, czasami pogarszał), jednakże wydaje się że w ogólności wzrost wartości tego parametru może negatywnie wpływać na jakość modelu"
   ]
  },
  {
   "cell_type": "code",
   "execution_count": 16,
   "metadata": {},
   "outputs": [
    {
     "data": {
      "text/html": [
       "<div>\n",
       "<style scoped>\n",
       "    .dataframe tbody tr th:only-of-type {\n",
       "        vertical-align: middle;\n",
       "    }\n",
       "\n",
       "    .dataframe tbody tr th {\n",
       "        vertical-align: top;\n",
       "    }\n",
       "\n",
       "    .dataframe thead th {\n",
       "        text-align: right;\n",
       "    }\n",
       "</style>\n",
       "<table border=\"1\" class=\"dataframe\">\n",
       "  <thead>\n",
       "    <tr style=\"text-align: right;\">\n",
       "      <th></th>\n",
       "      <th>Kryterium</th>\n",
       "      <th>Splitter</th>\n",
       "      <th>Max depth</th>\n",
       "      <th>Min samples split</th>\n",
       "      <th>Min samples leaf</th>\n",
       "      <th>Błąd MSE</th>\n",
       "      <th>Wynik wariancji</th>\n",
       "    </tr>\n",
       "  </thead>\n",
       "  <tbody>\n",
       "    <tr>\n",
       "      <th>0</th>\n",
       "      <td>gini</td>\n",
       "      <td>best</td>\n",
       "      <td>2</td>\n",
       "      <td>2</td>\n",
       "      <td>1</td>\n",
       "      <td>0.375000</td>\n",
       "      <td>-0.500000</td>\n",
       "    </tr>\n",
       "    <tr>\n",
       "      <th>1</th>\n",
       "      <td>gini</td>\n",
       "      <td>best</td>\n",
       "      <td>2</td>\n",
       "      <td>2</td>\n",
       "      <td>2</td>\n",
       "      <td>0.375000</td>\n",
       "      <td>-0.500000</td>\n",
       "    </tr>\n",
       "    <tr>\n",
       "      <th>2</th>\n",
       "      <td>gini</td>\n",
       "      <td>best</td>\n",
       "      <td>2</td>\n",
       "      <td>3</td>\n",
       "      <td>1</td>\n",
       "      <td>0.375000</td>\n",
       "      <td>-0.500000</td>\n",
       "    </tr>\n",
       "    <tr>\n",
       "      <th>3</th>\n",
       "      <td>gini</td>\n",
       "      <td>best</td>\n",
       "      <td>2</td>\n",
       "      <td>3</td>\n",
       "      <td>2</td>\n",
       "      <td>0.375000</td>\n",
       "      <td>-0.500000</td>\n",
       "    </tr>\n",
       "    <tr>\n",
       "      <th>4</th>\n",
       "      <td>gini</td>\n",
       "      <td>best</td>\n",
       "      <td>4</td>\n",
       "      <td>2</td>\n",
       "      <td>1</td>\n",
       "      <td>0.250000</td>\n",
       "      <td>0.000000</td>\n",
       "    </tr>\n",
       "    <tr>\n",
       "      <th>5</th>\n",
       "      <td>gini</td>\n",
       "      <td>best</td>\n",
       "      <td>4</td>\n",
       "      <td>2</td>\n",
       "      <td>2</td>\n",
       "      <td>0.333333</td>\n",
       "      <td>-0.333333</td>\n",
       "    </tr>\n",
       "    <tr>\n",
       "      <th>6</th>\n",
       "      <td>gini</td>\n",
       "      <td>best</td>\n",
       "      <td>4</td>\n",
       "      <td>3</td>\n",
       "      <td>1</td>\n",
       "      <td>0.375000</td>\n",
       "      <td>-0.500000</td>\n",
       "    </tr>\n",
       "    <tr>\n",
       "      <th>7</th>\n",
       "      <td>gini</td>\n",
       "      <td>best</td>\n",
       "      <td>4</td>\n",
       "      <td>3</td>\n",
       "      <td>2</td>\n",
       "      <td>0.333333</td>\n",
       "      <td>-0.333333</td>\n",
       "    </tr>\n",
       "    <tr>\n",
       "      <th>8</th>\n",
       "      <td>gini</td>\n",
       "      <td>best</td>\n",
       "      <td>6</td>\n",
       "      <td>2</td>\n",
       "      <td>1</td>\n",
       "      <td>0.250000</td>\n",
       "      <td>0.000000</td>\n",
       "    </tr>\n",
       "    <tr>\n",
       "      <th>9</th>\n",
       "      <td>gini</td>\n",
       "      <td>best</td>\n",
       "      <td>6</td>\n",
       "      <td>2</td>\n",
       "      <td>2</td>\n",
       "      <td>0.291667</td>\n",
       "      <td>-0.166667</td>\n",
       "    </tr>\n",
       "    <tr>\n",
       "      <th>10</th>\n",
       "      <td>gini</td>\n",
       "      <td>best</td>\n",
       "      <td>6</td>\n",
       "      <td>3</td>\n",
       "      <td>1</td>\n",
       "      <td>0.250000</td>\n",
       "      <td>0.000000</td>\n",
       "    </tr>\n",
       "    <tr>\n",
       "      <th>11</th>\n",
       "      <td>gini</td>\n",
       "      <td>best</td>\n",
       "      <td>6</td>\n",
       "      <td>3</td>\n",
       "      <td>2</td>\n",
       "      <td>0.333333</td>\n",
       "      <td>-0.333333</td>\n",
       "    </tr>\n",
       "    <tr>\n",
       "      <th>12</th>\n",
       "      <td>gini</td>\n",
       "      <td>random</td>\n",
       "      <td>2</td>\n",
       "      <td>2</td>\n",
       "      <td>1</td>\n",
       "      <td>0.416667</td>\n",
       "      <td>-0.666667</td>\n",
       "    </tr>\n",
       "    <tr>\n",
       "      <th>13</th>\n",
       "      <td>gini</td>\n",
       "      <td>random</td>\n",
       "      <td>2</td>\n",
       "      <td>2</td>\n",
       "      <td>2</td>\n",
       "      <td>0.416667</td>\n",
       "      <td>-0.666667</td>\n",
       "    </tr>\n",
       "    <tr>\n",
       "      <th>14</th>\n",
       "      <td>gini</td>\n",
       "      <td>random</td>\n",
       "      <td>2</td>\n",
       "      <td>3</td>\n",
       "      <td>1</td>\n",
       "      <td>0.416667</td>\n",
       "      <td>-0.666667</td>\n",
       "    </tr>\n",
       "    <tr>\n",
       "      <th>15</th>\n",
       "      <td>gini</td>\n",
       "      <td>random</td>\n",
       "      <td>2</td>\n",
       "      <td>3</td>\n",
       "      <td>2</td>\n",
       "      <td>0.416667</td>\n",
       "      <td>-0.666667</td>\n",
       "    </tr>\n",
       "    <tr>\n",
       "      <th>16</th>\n",
       "      <td>gini</td>\n",
       "      <td>random</td>\n",
       "      <td>4</td>\n",
       "      <td>2</td>\n",
       "      <td>1</td>\n",
       "      <td>0.416667</td>\n",
       "      <td>-0.666667</td>\n",
       "    </tr>\n",
       "    <tr>\n",
       "      <th>17</th>\n",
       "      <td>gini</td>\n",
       "      <td>random</td>\n",
       "      <td>4</td>\n",
       "      <td>2</td>\n",
       "      <td>2</td>\n",
       "      <td>0.250000</td>\n",
       "      <td>0.000000</td>\n",
       "    </tr>\n",
       "    <tr>\n",
       "      <th>18</th>\n",
       "      <td>gini</td>\n",
       "      <td>random</td>\n",
       "      <td>4</td>\n",
       "      <td>3</td>\n",
       "      <td>1</td>\n",
       "      <td>0.166667</td>\n",
       "      <td>0.333333</td>\n",
       "    </tr>\n",
       "    <tr>\n",
       "      <th>19</th>\n",
       "      <td>gini</td>\n",
       "      <td>random</td>\n",
       "      <td>4</td>\n",
       "      <td>3</td>\n",
       "      <td>2</td>\n",
       "      <td>0.291667</td>\n",
       "      <td>-0.166667</td>\n",
       "    </tr>\n",
       "    <tr>\n",
       "      <th>20</th>\n",
       "      <td>gini</td>\n",
       "      <td>random</td>\n",
       "      <td>6</td>\n",
       "      <td>2</td>\n",
       "      <td>1</td>\n",
       "      <td>0.375000</td>\n",
       "      <td>-0.500000</td>\n",
       "    </tr>\n",
       "    <tr>\n",
       "      <th>21</th>\n",
       "      <td>gini</td>\n",
       "      <td>random</td>\n",
       "      <td>6</td>\n",
       "      <td>2</td>\n",
       "      <td>2</td>\n",
       "      <td>0.333333</td>\n",
       "      <td>-0.333333</td>\n",
       "    </tr>\n",
       "    <tr>\n",
       "      <th>22</th>\n",
       "      <td>gini</td>\n",
       "      <td>random</td>\n",
       "      <td>6</td>\n",
       "      <td>3</td>\n",
       "      <td>1</td>\n",
       "      <td>0.458333</td>\n",
       "      <td>-0.833333</td>\n",
       "    </tr>\n",
       "    <tr>\n",
       "      <th>23</th>\n",
       "      <td>gini</td>\n",
       "      <td>random</td>\n",
       "      <td>6</td>\n",
       "      <td>3</td>\n",
       "      <td>2</td>\n",
       "      <td>0.208333</td>\n",
       "      <td>0.166667</td>\n",
       "    </tr>\n",
       "    <tr>\n",
       "      <th>24</th>\n",
       "      <td>entropy</td>\n",
       "      <td>best</td>\n",
       "      <td>2</td>\n",
       "      <td>2</td>\n",
       "      <td>1</td>\n",
       "      <td>0.375000</td>\n",
       "      <td>-0.500000</td>\n",
       "    </tr>\n",
       "    <tr>\n",
       "      <th>25</th>\n",
       "      <td>entropy</td>\n",
       "      <td>best</td>\n",
       "      <td>2</td>\n",
       "      <td>2</td>\n",
       "      <td>2</td>\n",
       "      <td>0.375000</td>\n",
       "      <td>-0.500000</td>\n",
       "    </tr>\n",
       "    <tr>\n",
       "      <th>26</th>\n",
       "      <td>entropy</td>\n",
       "      <td>best</td>\n",
       "      <td>2</td>\n",
       "      <td>3</td>\n",
       "      <td>1</td>\n",
       "      <td>0.375000</td>\n",
       "      <td>-0.500000</td>\n",
       "    </tr>\n",
       "    <tr>\n",
       "      <th>27</th>\n",
       "      <td>entropy</td>\n",
       "      <td>best</td>\n",
       "      <td>2</td>\n",
       "      <td>3</td>\n",
       "      <td>2</td>\n",
       "      <td>0.375000</td>\n",
       "      <td>-0.500000</td>\n",
       "    </tr>\n",
       "    <tr>\n",
       "      <th>28</th>\n",
       "      <td>entropy</td>\n",
       "      <td>best</td>\n",
       "      <td>4</td>\n",
       "      <td>2</td>\n",
       "      <td>1</td>\n",
       "      <td>0.291667</td>\n",
       "      <td>-0.166667</td>\n",
       "    </tr>\n",
       "    <tr>\n",
       "      <th>29</th>\n",
       "      <td>entropy</td>\n",
       "      <td>best</td>\n",
       "      <td>4</td>\n",
       "      <td>2</td>\n",
       "      <td>2</td>\n",
       "      <td>0.291667</td>\n",
       "      <td>-0.166667</td>\n",
       "    </tr>\n",
       "    <tr>\n",
       "      <th>30</th>\n",
       "      <td>entropy</td>\n",
       "      <td>best</td>\n",
       "      <td>4</td>\n",
       "      <td>3</td>\n",
       "      <td>1</td>\n",
       "      <td>0.291667</td>\n",
       "      <td>-0.166667</td>\n",
       "    </tr>\n",
       "    <tr>\n",
       "      <th>31</th>\n",
       "      <td>entropy</td>\n",
       "      <td>best</td>\n",
       "      <td>4</td>\n",
       "      <td>3</td>\n",
       "      <td>2</td>\n",
       "      <td>0.291667</td>\n",
       "      <td>-0.166667</td>\n",
       "    </tr>\n",
       "    <tr>\n",
       "      <th>32</th>\n",
       "      <td>entropy</td>\n",
       "      <td>best</td>\n",
       "      <td>6</td>\n",
       "      <td>2</td>\n",
       "      <td>1</td>\n",
       "      <td>0.291667</td>\n",
       "      <td>-0.166667</td>\n",
       "    </tr>\n",
       "    <tr>\n",
       "      <th>33</th>\n",
       "      <td>entropy</td>\n",
       "      <td>best</td>\n",
       "      <td>6</td>\n",
       "      <td>2</td>\n",
       "      <td>2</td>\n",
       "      <td>0.291667</td>\n",
       "      <td>-0.166667</td>\n",
       "    </tr>\n",
       "    <tr>\n",
       "      <th>34</th>\n",
       "      <td>entropy</td>\n",
       "      <td>best</td>\n",
       "      <td>6</td>\n",
       "      <td>3</td>\n",
       "      <td>1</td>\n",
       "      <td>0.291667</td>\n",
       "      <td>-0.166667</td>\n",
       "    </tr>\n",
       "    <tr>\n",
       "      <th>35</th>\n",
       "      <td>entropy</td>\n",
       "      <td>best</td>\n",
       "      <td>6</td>\n",
       "      <td>3</td>\n",
       "      <td>2</td>\n",
       "      <td>0.375000</td>\n",
       "      <td>-0.500000</td>\n",
       "    </tr>\n",
       "    <tr>\n",
       "      <th>36</th>\n",
       "      <td>entropy</td>\n",
       "      <td>random</td>\n",
       "      <td>2</td>\n",
       "      <td>2</td>\n",
       "      <td>1</td>\n",
       "      <td>0.458333</td>\n",
       "      <td>-0.833333</td>\n",
       "    </tr>\n",
       "    <tr>\n",
       "      <th>37</th>\n",
       "      <td>entropy</td>\n",
       "      <td>random</td>\n",
       "      <td>2</td>\n",
       "      <td>2</td>\n",
       "      <td>2</td>\n",
       "      <td>0.375000</td>\n",
       "      <td>-0.500000</td>\n",
       "    </tr>\n",
       "    <tr>\n",
       "      <th>38</th>\n",
       "      <td>entropy</td>\n",
       "      <td>random</td>\n",
       "      <td>2</td>\n",
       "      <td>3</td>\n",
       "      <td>1</td>\n",
       "      <td>0.416667</td>\n",
       "      <td>-0.666667</td>\n",
       "    </tr>\n",
       "    <tr>\n",
       "      <th>39</th>\n",
       "      <td>entropy</td>\n",
       "      <td>random</td>\n",
       "      <td>2</td>\n",
       "      <td>3</td>\n",
       "      <td>2</td>\n",
       "      <td>0.458333</td>\n",
       "      <td>-0.833333</td>\n",
       "    </tr>\n",
       "    <tr>\n",
       "      <th>40</th>\n",
       "      <td>entropy</td>\n",
       "      <td>random</td>\n",
       "      <td>4</td>\n",
       "      <td>2</td>\n",
       "      <td>1</td>\n",
       "      <td>0.458333</td>\n",
       "      <td>-0.833333</td>\n",
       "    </tr>\n",
       "    <tr>\n",
       "      <th>41</th>\n",
       "      <td>entropy</td>\n",
       "      <td>random</td>\n",
       "      <td>4</td>\n",
       "      <td>2</td>\n",
       "      <td>2</td>\n",
       "      <td>0.291667</td>\n",
       "      <td>-0.166667</td>\n",
       "    </tr>\n",
       "    <tr>\n",
       "      <th>42</th>\n",
       "      <td>entropy</td>\n",
       "      <td>random</td>\n",
       "      <td>4</td>\n",
       "      <td>3</td>\n",
       "      <td>1</td>\n",
       "      <td>0.416667</td>\n",
       "      <td>-0.666667</td>\n",
       "    </tr>\n",
       "    <tr>\n",
       "      <th>43</th>\n",
       "      <td>entropy</td>\n",
       "      <td>random</td>\n",
       "      <td>4</td>\n",
       "      <td>3</td>\n",
       "      <td>2</td>\n",
       "      <td>0.500000</td>\n",
       "      <td>-1.000000</td>\n",
       "    </tr>\n",
       "    <tr>\n",
       "      <th>44</th>\n",
       "      <td>entropy</td>\n",
       "      <td>random</td>\n",
       "      <td>6</td>\n",
       "      <td>2</td>\n",
       "      <td>1</td>\n",
       "      <td>0.375000</td>\n",
       "      <td>-0.500000</td>\n",
       "    </tr>\n",
       "    <tr>\n",
       "      <th>45</th>\n",
       "      <td>entropy</td>\n",
       "      <td>random</td>\n",
       "      <td>6</td>\n",
       "      <td>2</td>\n",
       "      <td>2</td>\n",
       "      <td>0.250000</td>\n",
       "      <td>0.000000</td>\n",
       "    </tr>\n",
       "    <tr>\n",
       "      <th>46</th>\n",
       "      <td>entropy</td>\n",
       "      <td>random</td>\n",
       "      <td>6</td>\n",
       "      <td>3</td>\n",
       "      <td>1</td>\n",
       "      <td>0.250000</td>\n",
       "      <td>0.000000</td>\n",
       "    </tr>\n",
       "    <tr>\n",
       "      <th>47</th>\n",
       "      <td>entropy</td>\n",
       "      <td>random</td>\n",
       "      <td>6</td>\n",
       "      <td>3</td>\n",
       "      <td>2</td>\n",
       "      <td>0.333333</td>\n",
       "      <td>-0.333333</td>\n",
       "    </tr>\n",
       "  </tbody>\n",
       "</table>\n",
       "</div>"
      ],
      "text/plain": [
       "   Kryterium Splitter  Max depth  Min samples split  Min samples leaf  \\\n",
       "0       gini     best          2                  2                 1   \n",
       "1       gini     best          2                  2                 2   \n",
       "2       gini     best          2                  3                 1   \n",
       "3       gini     best          2                  3                 2   \n",
       "4       gini     best          4                  2                 1   \n",
       "5       gini     best          4                  2                 2   \n",
       "6       gini     best          4                  3                 1   \n",
       "7       gini     best          4                  3                 2   \n",
       "8       gini     best          6                  2                 1   \n",
       "9       gini     best          6                  2                 2   \n",
       "10      gini     best          6                  3                 1   \n",
       "11      gini     best          6                  3                 2   \n",
       "12      gini   random          2                  2                 1   \n",
       "13      gini   random          2                  2                 2   \n",
       "14      gini   random          2                  3                 1   \n",
       "15      gini   random          2                  3                 2   \n",
       "16      gini   random          4                  2                 1   \n",
       "17      gini   random          4                  2                 2   \n",
       "18      gini   random          4                  3                 1   \n",
       "19      gini   random          4                  3                 2   \n",
       "20      gini   random          6                  2                 1   \n",
       "21      gini   random          6                  2                 2   \n",
       "22      gini   random          6                  3                 1   \n",
       "23      gini   random          6                  3                 2   \n",
       "24   entropy     best          2                  2                 1   \n",
       "25   entropy     best          2                  2                 2   \n",
       "26   entropy     best          2                  3                 1   \n",
       "27   entropy     best          2                  3                 2   \n",
       "28   entropy     best          4                  2                 1   \n",
       "29   entropy     best          4                  2                 2   \n",
       "30   entropy     best          4                  3                 1   \n",
       "31   entropy     best          4                  3                 2   \n",
       "32   entropy     best          6                  2                 1   \n",
       "33   entropy     best          6                  2                 2   \n",
       "34   entropy     best          6                  3                 1   \n",
       "35   entropy     best          6                  3                 2   \n",
       "36   entropy   random          2                  2                 1   \n",
       "37   entropy   random          2                  2                 2   \n",
       "38   entropy   random          2                  3                 1   \n",
       "39   entropy   random          2                  3                 2   \n",
       "40   entropy   random          4                  2                 1   \n",
       "41   entropy   random          4                  2                 2   \n",
       "42   entropy   random          4                  3                 1   \n",
       "43   entropy   random          4                  3                 2   \n",
       "44   entropy   random          6                  2                 1   \n",
       "45   entropy   random          6                  2                 2   \n",
       "46   entropy   random          6                  3                 1   \n",
       "47   entropy   random          6                  3                 2   \n",
       "\n",
       "    Błąd MSE  Wynik wariancji  \n",
       "0   0.375000        -0.500000  \n",
       "1   0.375000        -0.500000  \n",
       "2   0.375000        -0.500000  \n",
       "3   0.375000        -0.500000  \n",
       "4   0.250000         0.000000  \n",
       "5   0.333333        -0.333333  \n",
       "6   0.375000        -0.500000  \n",
       "7   0.333333        -0.333333  \n",
       "8   0.250000         0.000000  \n",
       "9   0.291667        -0.166667  \n",
       "10  0.250000         0.000000  \n",
       "11  0.333333        -0.333333  \n",
       "12  0.416667        -0.666667  \n",
       "13  0.416667        -0.666667  \n",
       "14  0.416667        -0.666667  \n",
       "15  0.416667        -0.666667  \n",
       "16  0.416667        -0.666667  \n",
       "17  0.250000         0.000000  \n",
       "18  0.166667         0.333333  \n",
       "19  0.291667        -0.166667  \n",
       "20  0.375000        -0.500000  \n",
       "21  0.333333        -0.333333  \n",
       "22  0.458333        -0.833333  \n",
       "23  0.208333         0.166667  \n",
       "24  0.375000        -0.500000  \n",
       "25  0.375000        -0.500000  \n",
       "26  0.375000        -0.500000  \n",
       "27  0.375000        -0.500000  \n",
       "28  0.291667        -0.166667  \n",
       "29  0.291667        -0.166667  \n",
       "30  0.291667        -0.166667  \n",
       "31  0.291667        -0.166667  \n",
       "32  0.291667        -0.166667  \n",
       "33  0.291667        -0.166667  \n",
       "34  0.291667        -0.166667  \n",
       "35  0.375000        -0.500000  \n",
       "36  0.458333        -0.833333  \n",
       "37  0.375000        -0.500000  \n",
       "38  0.416667        -0.666667  \n",
       "39  0.458333        -0.833333  \n",
       "40  0.458333        -0.833333  \n",
       "41  0.291667        -0.166667  \n",
       "42  0.416667        -0.666667  \n",
       "43  0.500000        -1.000000  \n",
       "44  0.375000        -0.500000  \n",
       "45  0.250000         0.000000  \n",
       "46  0.250000         0.000000  \n",
       "47  0.333333        -0.333333  "
      ]
     },
     "execution_count": 16,
     "metadata": {},
     "output_type": "execute_result"
    }
   ],
   "source": [
    "max_depth_config = [2, 4, 6]\n",
    "min_samples_split_config = [2, 3]\n",
    "min_samples_leaf_config = [1, 2]\n",
    "\n",
    "l_criterion = []\n",
    "l_splitter = []\n",
    "l_max_depth = []\n",
    "l_min_samples_split = []\n",
    "l_min_samples_leaf = []\n",
    "l_mse = []\n",
    "l_r2 = []\n",
    "\n",
    "for c in criterion_config:\n",
    "    for s in splitter_config:\n",
    "        for md in max_depth_config:\n",
    "            for mss in min_samples_split_config:\n",
    "                for msl in min_samples_leaf_config:\n",
    "                    clf_config = DecisionTreeClassifier(criterion=c, splitter=s, max_depth=md,\n",
    "                                                        min_samples_split=mss, min_samples_leaf=msl)\n",
    "                    clf_config.fit(X_train, y_train)\n",
    "                    y_pred = clf_config.predict(X_test)\n",
    "                    l_criterion.append(c)\n",
    "                    l_splitter.append(s)\n",
    "                    l_max_depth.append(md)\n",
    "                    l_min_samples_split.append(mss)\n",
    "                    l_min_samples_leaf.append(msl)\n",
    "                    l_mse.append(mean_squared_error(y_test, y_pred))\n",
    "                    l_r2.append(r2_score(y_test, y_pred))\n",
    "\n",
    "d = {'Kryterium': l_criterion,\n",
    "     'Splitter': l_splitter,\n",
    "     'Max depth': l_max_depth,\n",
    "     'Min samples split': l_min_samples_split,\n",
    "     'Min samples leaf': l_min_samples_leaf, \n",
    "     'Błąd MSE': l_mse, \n",
    "     'Wynik wariancji': l_r2}\n",
    "dataframe = pd.DataFrame(data = d)\n",
    "dataframe"
   ]
  },
  {
   "cell_type": "markdown",
   "metadata": {},
   "source": [
    "Najlepsze wyniki( najmniejszy mse i największy r2) zostały uzyskane za pomocą kryterium Gini'ego oraz splittera typu bes oraz min_sample_split = 2, min_sample_leaf=1"
   ]
  },
  {
   "cell_type": "code",
   "execution_count": 17,
   "metadata": {},
   "outputs": [
    {
     "data": {
      "text/plain": [
       "DecisionTreeClassifier()"
      ]
     },
     "execution_count": 17,
     "metadata": {},
     "output_type": "execute_result"
    }
   ],
   "source": [
    "clf = DecisionTreeClassifier()\n",
    "clf.fit(X_train, y_train)"
   ]
  },
  {
   "cell_type": "code",
   "execution_count": 18,
   "metadata": {},
   "outputs": [
    {
     "name": "stdout",
     "output_type": "stream",
     "text": [
      "Predykcja dla 1 elementu zbioru testowego\n",
      " [1]\n",
      "Prawdopodobieństwo przynależności do danej klasy dla 1 elementu zbioru testowego\n",
      " [[1. 0.]]\n",
      "Właściwa klasa ->  1\n"
     ]
    }
   ],
   "source": [
    "pred = clf.predict(X_test[0, :].reshape(1, -1))\n",
    "print('Predykcja dla 1 elementu zbioru testowego\\n', pred)\n",
    "proba = clf.predict_proba(X_test[0, :].reshape(1, -1))\n",
    "print('Prawdopodobieństwo przynależności do danej klasy dla 1 elementu zbioru testowego\\n', proba)\n",
    "print('Właściwa klasa -> ', y_test[0])"
   ]
  },
  {
   "cell_type": "markdown",
   "metadata": {},
   "source": [
    "Funkcja predict proba dla klasyfikatora zwaraca tablicę o wymiarze odpowiadającym ilości klas, wartość każdego elementu  z tablicy odpowiada prawdopodobieństwu przynależności do danej klasy zakres (0, 1)"
   ]
  },
  {
   "cell_type": "code",
   "execution_count": 19,
   "metadata": {},
   "outputs": [
    {
     "name": "stdout",
     "output_type": "stream",
     "text": [
      "Predykcja dla 5 elementu zbioru testowego\n",
      " [2]\n",
      "Prawdopodobieństwo przynależności do danej klasy dla 5 elementu zbioru testowego\n",
      " [[0. 1.]]\n",
      "Właściwa klasa ->  2\n"
     ]
    }
   ],
   "source": [
    "pred = clf.predict(X_test[4, :].reshape(1, -1))\n",
    "print('Predykcja dla 5 elementu zbioru testowego\\n', pred)\n",
    "proba = clf.predict_proba(X_test[4, :].reshape(1, -1))\n",
    "print('Prawdopodobieństwo przynależności do danej klasy dla 5 elementu zbioru testowego\\n', proba)\n",
    "print('Właściwa klasa -> ', y_test[4])"
   ]
  },
  {
   "cell_type": "code",
   "execution_count": 20,
   "metadata": {},
   "outputs": [
    {
     "name": "stdout",
     "output_type": "stream",
     "text": [
      "Predykcja dla 24 elementu zbioru testowego\n",
      " [1]\n",
      "Prawdopodobieństwo przynależności do danej klasy dla 24 elementu zbioru testowego\n",
      " [[1. 0.]]\n",
      "Właściwa klasa ->  1\n"
     ]
    }
   ],
   "source": [
    "pred = clf.predict(X_test[23, :].reshape(1, -1))\n",
    "print('Predykcja dla 24 elementu zbioru testowego\\n', pred)\n",
    "proba = clf.predict_proba(X_test[23, :].reshape(1, -1))\n",
    "print('Prawdopodobieństwo przynależności do danej klasy dla 24 elementu zbioru testowego\\n', proba)\n",
    "print('Właściwa klasa -> ', y_test[23])"
   ]
  },
  {
   "cell_type": "code",
   "execution_count": 21,
   "metadata": {},
   "outputs": [
    {
     "name": "stdout",
     "output_type": "stream",
     "text": [
      "Predykcje dla wszystkich próbek ze zbioru testowego\n",
      "Predicions\n",
      " [1 2 2 2 2 2 2 2 1 2 2 2 1 2 2 2 1 1 1 2 2 2 2 1]\n",
      "Probabilities\n",
      " [[1. 0.]\n",
      " [0. 1.]\n",
      " [0. 1.]\n",
      " [0. 1.]\n",
      " [0. 1.]\n",
      " [0. 1.]\n",
      " [0. 1.]\n",
      " [0. 1.]\n",
      " [1. 0.]\n",
      " [0. 1.]\n",
      " [0. 1.]\n",
      " [0. 1.]\n",
      " [1. 0.]\n",
      " [0. 1.]\n",
      " [0. 1.]\n",
      " [0. 1.]\n",
      " [1. 0.]\n",
      " [1. 0.]\n",
      " [1. 0.]\n",
      " [0. 1.]\n",
      " [0. 1.]\n",
      " [0. 1.]\n",
      " [0. 1.]\n",
      " [1. 0.]]\n",
      "[1 2 2 2 2 1 2 2 1 1 2 2 2 1 2 1 1 1 1 1 2 2 1 1]\n"
     ]
    }
   ],
   "source": [
    "print('Predykcje dla wszystkich próbek ze zbioru testowego')\n",
    "preds = clf.predict(X_test)\n",
    "probs = clf.predict_proba(X_test)\n",
    "print('Predicions\\n', preds)\n",
    "print('Probabilities\\n', probs)\n",
    "print(y_test)"
   ]
  },
  {
   "cell_type": "code",
   "execution_count": 22,
   "metadata": {},
   "outputs": [
    {
     "data": {
      "text/plain": [
       "DecisionTreeClassifier()"
      ]
     },
     "execution_count": 22,
     "metadata": {},
     "output_type": "execute_result"
    }
   ],
   "source": [
    "from sklearn.tree import DecisionTreeClassifier\n",
    "\n",
    "clf = DecisionTreeClassifier()\n",
    "clf.fit(X2_train, y_train)"
   ]
  },
  {
   "cell_type": "code",
   "execution_count": 23,
   "metadata": {},
   "outputs": [
    {
     "data": {
      "image/png": "[encoded data removed]",
      "text/plain": [
       "<Figure size 720x360 with 1 Axes>"
      ]
     },
     "metadata": {
      "needs_background": "light"
     },
     "output_type": "display_data"
    }
   ],
   "source": [
    "from mlxtend.plotting import plot_decision_regions\n",
    "import matplotlib.pyplot as plt\n",
    "\n",
    "fig = plt.figure(figsize=(10,5))\n",
    "labels = ['Decision Tree']\n",
    "fig = plot_decision_regions(X=X2_train, y=y_train, clf=clf, legend=1)\n",
    "plt.title(\"Decision boundary\")\n",
    "plt.xlabel(\"Insulin\")\n",
    "plt.ylabel(\"Glucose\")\n",
    "plt.show()"
   ]
  },
  {
   "cell_type": "markdown",
   "metadata": {},
   "source": [
    "Można ocenić, że w tym przypadku ze względu na bardzo duże zagęszczenie większości próbek w jednym miejscu, które należą do różnych klas trudno dokładnie wyznaczyć granicę decyzyjną. Ogólnie wydaje się że granica została wyznaczona prawidłowo."
   ]
  }
 ],
 "metadata": {
  "kernelspec": {
   "display_name": "Python 3",
   "language": "python",
   "name": "python3"
  },
  "language_info": {
   "codemirror_mode": {
    "name": "ipython",
    "version": 3
   },
   "file_extension": ".py",
   "mimetype": "text/x-python",
   "name": "python",
   "nbconvert_exporter": "python",
   "pygments_lexer": "ipython3",
   "version": "3.8.8"
  },
  "latex_envs": {
   "LaTeX_envs_menu_present": true,
   "autoclose": false,
   "autocomplete": true,
   "bibliofile": "biblio.bib",
   "cite_by": "apalike",
   "current_citInitial": 1,
   "eqLabelWithNumbers": true,
   "eqNumInitial": 1,
   "hotkeys": {
    "equation": "Ctrl-E",
    "itemize": "Ctrl-I"
   },
   "labels_anchors": false,
   "latex_user_defs": false,
   "report_style_numbering": false,
   "user_envs_cfg": false
  }
 },
 "nbformat": 4,
 "nbformat_minor": 2
}
